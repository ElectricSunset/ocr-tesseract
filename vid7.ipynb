{
 "cells": [
  {
   "cell_type": "code",
   "execution_count": 4,
   "metadata": {},
   "outputs": [
    {
     "data": {
      "text/plain": [
       "True"
      ]
     },
     "execution_count": 4,
     "metadata": {},
     "output_type": "execute_result"
    }
   ],
   "source": [
    "import pytesseract\n",
    "import cv2\n",
    "\n",
    "image = cv2.imread('data/sample_mgh.jpg')\n",
    "im_h, im_w, im_d = image.shape\n",
    "base_image = image.copy()\n",
    "\n",
    "gray = cv2.cvtColor(image, cv2.COLOR_BGR2GRAY)\n",
    "blur = cv2.GaussianBlur(gray, (7,7), 0)\n",
    "thresh = cv2.threshold(blur, 0, 255, cv2.THRESH_BINARY_INV + cv2.THRESH_OTSU)[1]\n",
    "\n",
    "# Create rectangular structuring element and dilate\n",
    "kernal = cv2.getStructuringElement(cv2.MORPH_RECT, (50, 10))\n",
    "dilate = cv2.dilate(thresh, kernal, iterations=1)\n",
    "\n",
    "# Find contours and draw rectangle\n",
    "cnts = cv2.findContours(dilate, cv2.RETR_EXTERNAL, cv2.CHAIN_APPROX_SIMPLE)\n",
    "cnts = cnts[0] if len(cnts) == 2 else cnts[1]\n",
    "cnts = sorted(cnts, key=lambda x: cv2.boundingRect(x)[1])\n",
    "\n",
    "for c in cnts:\n",
    "    x, y, w, h = cv2.boundingRect(c)\n",
    "    if h < 20 and w > 250:\n",
    "        roi = base_image[0:y+h, 0:x+im_w]\n",
    "        cv2.rectangle(image, (x,y), (x+w, y+h), (36, 255, 12), 2)\n",
    "\n",
    "\n",
    "cv2.imwrite('temp/output.png', roi)"
   ]
  },
  {
   "cell_type": "markdown",
   "metadata": {},
   "source": [
    "# Capturing Side Notes"
   ]
  },
  {
   "cell_type": "code",
   "execution_count": null,
   "metadata": {},
   "outputs": [],
   "source": [
    "# import pytesseract\n",
    "# import cv2\n",
    "\n",
    "\n",
    "# image = cv2.imread('data/sample_mgh_2.jpg')\n",
    "# base_image = image.copy()\n",
    "\n",
    "# gray = cv2.cvtColor(image, cv2.COLOR_BGR2GRAY)\n",
    "# blur = cv2.GaussianBlur(gray, (7,7), 0)\n",
    "# thresh = cv2.threshold(blur, 0, 255, cv2.THRESH_BINARY_INV + cv2.THRESH_OTSU)[1]\n",
    "\n",
    "# # Create rectangular structuring element and dilate\n",
    "# kernel = cv2.getStructuringElement(cv2.MORPH_RECT, (3,25))\n",
    "# dilate = cv2.dilate(thresh, kernel, iterations=1)\n",
    "\n",
    "# # Find contours and draw rectangle\n",
    "# cnts = cv2.findContours(dilate, cv2.RETR_EXTERNAL, cv2.CHAIN_APPROX_SIMPLE)\n",
    "# cnts = cnts[0] if len(cnts) == 2 else cnts[1]\n",
    "# cnts = sorted(cnts, key=lambda x: cv2.boundingRect(x)[1])\n",
    "# main_text = \"\"\n",
    "# for c in cnts:\n",
    "#     x,y,w,h = cv2.boundingRect(c)\n",
    "#     if h > 200 and w > 250:\n",
    "#         roi = base_image[y:y+h, 0:x]\n",
    "# #         cv2.rectangle(image, (0, y), (x, 0 + h+20), (36,255,12), 2)\n",
    "        \n",
    "#         constant= cv2.copyMakeBorder(roi.copy(),30,30,30,30,cv2.BORDER_CONSTANT,value=[255,255,255])\n",
    "#         ocr_result = pytesseract.image_to_string(constant)\n",
    "#         cv2.imwrite(\"temp/output.png\", roi)\n",
    "        \n",
    "#         print (ocr_result)\n",
    "\n",
    "# cv2.imwrite(\"temp/output.png\", image)"
   ]
  },
  {
   "cell_type": "code",
   "execution_count": null,
   "metadata": {},
   "outputs": [],
   "source": [
    "# ocr_result = pytesseract.image_to_string(img)\n",
    "# print (ocr_result)\n",
    "# lines = ocr_result.split(\"\\n\\n\")\n",
    "\n",
    "\n",
    "# for line in lines:\n",
    "#     temp_line = line.replace(\",\", \"\")\n",
    "#     if temp_line.isdigit():\n",
    "#         pass\n",
    "#     else:\n",
    "#         components = []\n",
    "#         segs = line.split(\",\")\n",
    "#         for seg in segs:\n",
    "#             seg = seg.strip()\n",
    "#             num = False\n",
    "#             for character in seg:\n",
    "#                 if character.isdigit():\n",
    "#                     num = True\n",
    "#             if num == False:\n",
    "#                 components.append(seg)\n",
    "#         print (components)"
   ]
  }
 ],
 "metadata": {
  "kernelspec": {
   "display_name": "Python 3",
   "language": "python",
   "name": "python3"
  },
  "language_info": {
   "codemirror_mode": {
    "name": "ipython",
    "version": 3
   },
   "file_extension": ".py",
   "mimetype": "text/x-python",
   "name": "python",
   "nbconvert_exporter": "python",
   "pygments_lexer": "ipython3",
   "version": "3.9.13"
  }
 },
 "nbformat": 4,
 "nbformat_minor": 2
}
