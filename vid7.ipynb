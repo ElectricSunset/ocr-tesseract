{
 "cells": [
  {
   "cell_type": "code",
   "execution_count": null,
   "metadata": {},
   "outputs": [],
   "source": [
    "import pytesseract\n",
    "import cv2\n",
    "\n",
    "image = cv2.imread('data/sample_mgh.JPG')\n",
    "im_h, im_w, im_d = image.shape\n",
    "base_image = image.copy()\n",
    "\n",
    "gray = cv2.cvtColor(image, cv2.COLOR_BGR2GRAY)\n",
    "blur = cv2.GaussianBlur(gray, (7,7), 0)\n",
    "thresh = cv2.threshold(blur, 0, 255, cv2.THRESH_BINARY_INV + cv2.THRESH_OTSU)[1]\n",
    "\n",
    "# Create rectangular structuring element and dilate\n",
    "kernal = cv2.getStructuringElement(cv2.MORPH_RECT, (3, 50))\n",
    "dilate = cv2.dilate(thresh, kernal, iterations=1)\n",
    "\n",
    "# Find contours and draw rectangle\n",
    "cnts = cv2.findContours(dilate, cv2.RETR_EXTERNAL, cv2.CHAIN_APPROX_SIMPLE)\n",
    "cnts = cnts[0] if len(cnts) == 2 else cnts[1]\n",
    "cnts = sorted(cnts, key=lambda x: cv2.boundingRect(x)[1])\n",
    "\n",
    "for c in cnts:\n",
    "    x, y, w, h = cv2.boundingRect(c)\n",
    "    if h > 200 and w > 250:\n",
    "        roi = base_image[y:y+h, x:x+w]\n",
    "        cv2.rectangle(image, (x,y), (x+w, y+h), (36, 255, 12), 2)\n",
    "\n",
    "\n",
    "cv2.imwrite('temp/output.png', image)"
   ]
  }
 ],
 "metadata": {
  "language_info": {
   "name": "python"
  }
 },
 "nbformat": 4,
 "nbformat_minor": 2
}
